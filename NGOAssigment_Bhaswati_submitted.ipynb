{
 "cells": [
  {
   "cell_type": "code",
   "execution_count": 53,
   "metadata": {},
   "outputs": [],
   "source": [
    "import numpy as np\n",
    "import pandas as pd\n",
    "import matplotlib.pyplot as plt\n",
    "from scipy import cluster as skc\n",
    "import sklearn as skl\n",
    "import sklearn.preprocessing\n",
    "# Importing matplotlib and seaborn\n",
    "import matplotlib.pyplot as plt\n",
    "import seaborn as sns\n",
    "%matplotlib inline\n",
    "# To Scale our data\n",
    "from sklearn.preprocessing import scale\n",
    "\n",
    "# To perform KMeans clustering \n",
    "from sklearn.cluster import KMeans\n",
    "\n",
    "# To perform Hierarchical clustering\n",
    "from scipy.cluster.hierarchy import linkage\n",
    "from scipy.cluster.hierarchy import dendrogram\n",
    "from scipy.cluster.hierarchy import cut_tree\n",
    "\n",
    "from scipy import cluster as skc\n",
    "import sklearn as skl\n",
    "import sklearn.preprocessing\n",
    "\n"
   ]
  },
  {
   "cell_type": "code",
   "execution_count": 54,
   "metadata": {},
   "outputs": [
    {
     "data": {
      "text/html": [
       "<div>\n",
       "<style scoped>\n",
       "    .dataframe tbody tr th:only-of-type {\n",
       "        vertical-align: middle;\n",
       "    }\n",
       "\n",
       "    .dataframe tbody tr th {\n",
       "        vertical-align: top;\n",
       "    }\n",
       "\n",
       "    .dataframe thead th {\n",
       "        text-align: right;\n",
       "    }\n",
       "</style>\n",
       "<table border=\"1\" class=\"dataframe\">\n",
       "  <thead>\n",
       "    <tr style=\"text-align: right;\">\n",
       "      <th></th>\n",
       "      <th>country</th>\n",
       "      <th>child_mort</th>\n",
       "      <th>exports</th>\n",
       "      <th>health</th>\n",
       "      <th>imports</th>\n",
       "      <th>income</th>\n",
       "      <th>inflation</th>\n",
       "      <th>life_expec</th>\n",
       "      <th>total_fer</th>\n",
       "      <th>gdpp</th>\n",
       "    </tr>\n",
       "  </thead>\n",
       "  <tbody>\n",
       "    <tr>\n",
       "      <th>0</th>\n",
       "      <td>Afghanistan</td>\n",
       "      <td>90.2</td>\n",
       "      <td>10.0</td>\n",
       "      <td>7.58</td>\n",
       "      <td>44.9</td>\n",
       "      <td>1610</td>\n",
       "      <td>9.44</td>\n",
       "      <td>56.2</td>\n",
       "      <td>5.82</td>\n",
       "      <td>553</td>\n",
       "    </tr>\n",
       "    <tr>\n",
       "      <th>1</th>\n",
       "      <td>Albania</td>\n",
       "      <td>16.6</td>\n",
       "      <td>28.0</td>\n",
       "      <td>6.55</td>\n",
       "      <td>48.6</td>\n",
       "      <td>9930</td>\n",
       "      <td>4.49</td>\n",
       "      <td>76.3</td>\n",
       "      <td>1.65</td>\n",
       "      <td>4090</td>\n",
       "    </tr>\n",
       "    <tr>\n",
       "      <th>2</th>\n",
       "      <td>Algeria</td>\n",
       "      <td>27.3</td>\n",
       "      <td>38.4</td>\n",
       "      <td>4.17</td>\n",
       "      <td>31.4</td>\n",
       "      <td>12900</td>\n",
       "      <td>16.10</td>\n",
       "      <td>76.5</td>\n",
       "      <td>2.89</td>\n",
       "      <td>4460</td>\n",
       "    </tr>\n",
       "    <tr>\n",
       "      <th>3</th>\n",
       "      <td>Angola</td>\n",
       "      <td>119.0</td>\n",
       "      <td>62.3</td>\n",
       "      <td>2.85</td>\n",
       "      <td>42.9</td>\n",
       "      <td>5900</td>\n",
       "      <td>22.40</td>\n",
       "      <td>60.1</td>\n",
       "      <td>6.16</td>\n",
       "      <td>3530</td>\n",
       "    </tr>\n",
       "    <tr>\n",
       "      <th>4</th>\n",
       "      <td>Antigua and Barbuda</td>\n",
       "      <td>10.3</td>\n",
       "      <td>45.5</td>\n",
       "      <td>6.03</td>\n",
       "      <td>58.9</td>\n",
       "      <td>19100</td>\n",
       "      <td>1.44</td>\n",
       "      <td>76.8</td>\n",
       "      <td>2.13</td>\n",
       "      <td>12200</td>\n",
       "    </tr>\n",
       "  </tbody>\n",
       "</table>\n",
       "</div>"
      ],
      "text/plain": [
       "               country  child_mort  exports  health  imports  income  \\\n",
       "0          Afghanistan        90.2     10.0    7.58     44.9    1610   \n",
       "1              Albania        16.6     28.0    6.55     48.6    9930   \n",
       "2              Algeria        27.3     38.4    4.17     31.4   12900   \n",
       "3               Angola       119.0     62.3    2.85     42.9    5900   \n",
       "4  Antigua and Barbuda        10.3     45.5    6.03     58.9   19100   \n",
       "\n",
       "   inflation  life_expec  total_fer   gdpp  \n",
       "0       9.44        56.2       5.82    553  \n",
       "1       4.49        76.3       1.65   4090  \n",
       "2      16.10        76.5       2.89   4460  \n",
       "3      22.40        60.1       6.16   3530  \n",
       "4       1.44        76.8       2.13  12200  "
      ]
     },
     "execution_count": 54,
     "metadata": {},
     "output_type": "execute_result"
    }
   ],
   "source": [
    "#reading Dataset\n",
    "ngo= pd.read_csv(\"Country-data.csv\")\n",
    "ngo.head()"
   ]
  },
  {
   "cell_type": "code",
   "execution_count": 55,
   "metadata": {},
   "outputs": [
    {
     "name": "stdout",
     "output_type": "stream",
     "text": [
      "<class 'pandas.core.frame.DataFrame'>\n",
      "RangeIndex: 167 entries, 0 to 166\n",
      "Data columns (total 10 columns):\n",
      "country       167 non-null object\n",
      "child_mort    167 non-null float64\n",
      "exports       167 non-null float64\n",
      "health        167 non-null float64\n",
      "imports       167 non-null float64\n",
      "income        167 non-null int64\n",
      "inflation     167 non-null float64\n",
      "life_expec    167 non-null float64\n",
      "total_fer     167 non-null float64\n",
      "gdpp          167 non-null int64\n",
      "dtypes: float64(7), int64(2), object(1)\n",
      "memory usage: 13.1+ KB\n"
     ]
    }
   ],
   "source": [
    "#Sanity Check\n",
    "ngo.shape\n",
    "ngo.describe()\n",
    "ngo.info()"
   ]
  },
  {
   "cell_type": "code",
   "execution_count": 56,
   "metadata": {},
   "outputs": [
    {
     "data": {
      "text/plain": [
       "country       0.0\n",
       "child_mort    0.0\n",
       "exports       0.0\n",
       "health        0.0\n",
       "imports       0.0\n",
       "income        0.0\n",
       "inflation     0.0\n",
       "life_expec    0.0\n",
       "total_fer     0.0\n",
       "gdpp          0.0\n",
       "dtype: float64"
      ]
     },
     "execution_count": 56,
     "metadata": {},
     "output_type": "execute_result"
    }
   ],
   "source": [
    "#Na Handling\n",
    "ngo.isnull().values.any()\n",
    "ngo.isnull().values.sum()\n",
    "ngo.isnull().sum()*100/ngo.shape[0]"
   ]
  },
  {
   "cell_type": "code",
   "execution_count": 57,
   "metadata": {},
   "outputs": [],
   "source": [
    "# Checking for outliers in the continuous variables\n",
    "num_ngo = ngo[['child_mort','health','income','life_expec','gdpp']]"
   ]
  },
  {
   "cell_type": "code",
   "execution_count": 58,
   "metadata": {},
   "outputs": [
    {
     "data": {
      "text/html": [
       "<div>\n",
       "<style scoped>\n",
       "    .dataframe tbody tr th:only-of-type {\n",
       "        vertical-align: middle;\n",
       "    }\n",
       "\n",
       "    .dataframe tbody tr th {\n",
       "        vertical-align: top;\n",
       "    }\n",
       "\n",
       "    .dataframe thead th {\n",
       "        text-align: right;\n",
       "    }\n",
       "</style>\n",
       "<table border=\"1\" class=\"dataframe\">\n",
       "  <thead>\n",
       "    <tr style=\"text-align: right;\">\n",
       "      <th></th>\n",
       "      <th>child_mort</th>\n",
       "      <th>health</th>\n",
       "      <th>income</th>\n",
       "      <th>life_expec</th>\n",
       "      <th>gdpp</th>\n",
       "    </tr>\n",
       "  </thead>\n",
       "  <tbody>\n",
       "    <tr>\n",
       "      <th>count</th>\n",
       "      <td>167.000000</td>\n",
       "      <td>167.000000</td>\n",
       "      <td>167.000000</td>\n",
       "      <td>167.000000</td>\n",
       "      <td>167.000000</td>\n",
       "    </tr>\n",
       "    <tr>\n",
       "      <th>mean</th>\n",
       "      <td>38.270060</td>\n",
       "      <td>6.815689</td>\n",
       "      <td>17144.688623</td>\n",
       "      <td>70.555689</td>\n",
       "      <td>12964.155689</td>\n",
       "    </tr>\n",
       "    <tr>\n",
       "      <th>std</th>\n",
       "      <td>40.328931</td>\n",
       "      <td>2.746837</td>\n",
       "      <td>19278.067698</td>\n",
       "      <td>8.893172</td>\n",
       "      <td>18328.704809</td>\n",
       "    </tr>\n",
       "    <tr>\n",
       "      <th>min</th>\n",
       "      <td>2.600000</td>\n",
       "      <td>1.810000</td>\n",
       "      <td>609.000000</td>\n",
       "      <td>32.100000</td>\n",
       "      <td>231.000000</td>\n",
       "    </tr>\n",
       "    <tr>\n",
       "      <th>25%</th>\n",
       "      <td>8.250000</td>\n",
       "      <td>4.920000</td>\n",
       "      <td>3355.000000</td>\n",
       "      <td>65.300000</td>\n",
       "      <td>1330.000000</td>\n",
       "    </tr>\n",
       "    <tr>\n",
       "      <th>50%</th>\n",
       "      <td>19.300000</td>\n",
       "      <td>6.320000</td>\n",
       "      <td>9960.000000</td>\n",
       "      <td>73.100000</td>\n",
       "      <td>4660.000000</td>\n",
       "    </tr>\n",
       "    <tr>\n",
       "      <th>75%</th>\n",
       "      <td>62.100000</td>\n",
       "      <td>8.600000</td>\n",
       "      <td>22800.000000</td>\n",
       "      <td>76.800000</td>\n",
       "      <td>14050.000000</td>\n",
       "    </tr>\n",
       "    <tr>\n",
       "      <th>90%</th>\n",
       "      <td>100.220000</td>\n",
       "      <td>10.940000</td>\n",
       "      <td>41220.000000</td>\n",
       "      <td>80.400000</td>\n",
       "      <td>41840.000000</td>\n",
       "    </tr>\n",
       "    <tr>\n",
       "      <th>95%</th>\n",
       "      <td>116.000000</td>\n",
       "      <td>11.570000</td>\n",
       "      <td>48290.000000</td>\n",
       "      <td>81.400000</td>\n",
       "      <td>48610.000000</td>\n",
       "    </tr>\n",
       "    <tr>\n",
       "      <th>99%</th>\n",
       "      <td>153.400000</td>\n",
       "      <td>13.474000</td>\n",
       "      <td>84374.000000</td>\n",
       "      <td>82.370000</td>\n",
       "      <td>79088.000000</td>\n",
       "    </tr>\n",
       "    <tr>\n",
       "      <th>max</th>\n",
       "      <td>208.000000</td>\n",
       "      <td>17.900000</td>\n",
       "      <td>125000.000000</td>\n",
       "      <td>82.800000</td>\n",
       "      <td>105000.000000</td>\n",
       "    </tr>\n",
       "  </tbody>\n",
       "</table>\n",
       "</div>"
      ],
      "text/plain": [
       "       child_mort      health         income  life_expec           gdpp\n",
       "count  167.000000  167.000000     167.000000  167.000000     167.000000\n",
       "mean    38.270060    6.815689   17144.688623   70.555689   12964.155689\n",
       "std     40.328931    2.746837   19278.067698    8.893172   18328.704809\n",
       "min      2.600000    1.810000     609.000000   32.100000     231.000000\n",
       "25%      8.250000    4.920000    3355.000000   65.300000    1330.000000\n",
       "50%     19.300000    6.320000    9960.000000   73.100000    4660.000000\n",
       "75%     62.100000    8.600000   22800.000000   76.800000   14050.000000\n",
       "90%    100.220000   10.940000   41220.000000   80.400000   41840.000000\n",
       "95%    116.000000   11.570000   48290.000000   81.400000   48610.000000\n",
       "99%    153.400000   13.474000   84374.000000   82.370000   79088.000000\n",
       "max    208.000000   17.900000  125000.000000   82.800000  105000.000000"
      ]
     },
     "execution_count": 58,
     "metadata": {},
     "output_type": "execute_result"
    }
   ],
   "source": [
    "# Checking outliers at 25%,50%,75%,90%,95% and 99%\n",
    "num_ngo.describe(percentiles=[.25,.5,.75,.90,.95,.99])"
   ]
  },
  {
   "cell_type": "code",
   "execution_count": null,
   "metadata": {},
   "outputs": [],
   "source": [
    "#From the distribution shown above, we can see that there no outliner in the data. The numbers are gradually increasing."
   ]
  },
  {
   "cell_type": "code",
   "execution_count": 8,
   "metadata": {},
   "outputs": [
    {
     "data": {
      "text/plain": [
       "<matplotlib.axes._subplots.AxesSubplot at 0x1e822c0fd30>"
      ]
     },
     "execution_count": 8,
     "metadata": {},
     "output_type": "execute_result"
    },
    {
     "data": {
      "image/png": "[encoded data removed]",
      "text/plain": [
       "<matplotlib.figure.Figure at 0x1e822ba29b0>"
      ]
     },
     "metadata": {},
     "output_type": "display_data"
    }
   ],
   "source": [
    "# Let's see the correlation matrix\n",
    "ngo1=ngo[['child_mort','exports','health','imports','income','inflation','life_expec','total_fer','gdpp']]\n",
    "plt.figure(figsize = (20,10))        # Size of the figure\n",
    "sns.heatmap(ngo1.corr(),annot = True)"
   ]
  },
  {
   "cell_type": "code",
   "execution_count": null,
   "metadata": {},
   "outputs": [],
   "source": [
    "#Hitmap shows strong coorelation between Income & GDPP & child_mort & total_fer.\n",
    "#For ease of analysis, I have chosen only the numerical variables because we cannot do clustering or PCA with categorical variables.\n",
    "#Now, that we have selected the data we need to standardize the data. We will standardize the data by defining a function for standardization."
   ]
  },
  {
   "cell_type": "code",
   "execution_count": 9,
   "metadata": {},
   "outputs": [
    {
     "name": "stdout",
     "output_type": "stream",
     "text": [
      "            child_mort   exports    health   imports    income  inflation  \\\n",
      "child_mort    1.000000 -0.318093 -0.200402 -0.127211 -0.524315   0.288276   \n",
      "exports      -0.318093  1.000000 -0.114408  0.737381  0.516784  -0.107294   \n",
      "health       -0.200402 -0.114408  1.000000  0.095717  0.129579  -0.255376   \n",
      "imports      -0.127211  0.737381  0.095717  1.000000  0.122406  -0.246994   \n",
      "income       -0.524315  0.516784  0.129579  0.122406  1.000000  -0.147756   \n",
      "inflation     0.288276 -0.107294 -0.255376 -0.246994 -0.147756   1.000000   \n",
      "life_expec   -0.886676  0.316313  0.210692  0.054391  0.611962  -0.239705   \n",
      "total_fer     0.848478 -0.320011 -0.196674 -0.159048 -0.501840   0.316921   \n",
      "gdpp         -0.483032  0.418725  0.345966  0.115498  0.895571  -0.221631   \n",
      "\n",
      "            life_expec  total_fer      gdpp  \n",
      "child_mort   -0.886676   0.848478 -0.483032  \n",
      "exports       0.316313  -0.320011  0.418725  \n",
      "health        0.210692  -0.196674  0.345966  \n",
      "imports       0.054391  -0.159048  0.115498  \n",
      "income        0.611962  -0.501840  0.895571  \n",
      "inflation    -0.239705   0.316921 -0.221631  \n",
      "life_expec    1.000000  -0.760875  0.600089  \n",
      "total_fer    -0.760875   1.000000 -0.454910  \n",
      "gdpp          0.600089  -0.454910  1.000000  \n"
     ]
    },
    {
     "data": {
      "text/html": [
       "<div>\n",
       "<style scoped>\n",
       "    .dataframe tbody tr th:only-of-type {\n",
       "        vertical-align: middle;\n",
       "    }\n",
       "\n",
       "    .dataframe tbody tr th {\n",
       "        vertical-align: top;\n",
       "    }\n",
       "\n",
       "    .dataframe thead th {\n",
       "        text-align: right;\n",
       "    }\n",
       "</style>\n",
       "<table border=\"1\" class=\"dataframe\">\n",
       "  <thead>\n",
       "    <tr style=\"text-align: right;\">\n",
       "      <th></th>\n",
       "      <th>child_mort</th>\n",
       "      <th>exports</th>\n",
       "      <th>health</th>\n",
       "      <th>imports</th>\n",
       "      <th>income</th>\n",
       "      <th>inflation</th>\n",
       "      <th>life_expec</th>\n",
       "      <th>total_fer</th>\n",
       "      <th>gdpp</th>\n",
       "    </tr>\n",
       "  </thead>\n",
       "  <tbody>\n",
       "    <tr>\n",
       "      <th>0</th>\n",
       "      <td>1.291532</td>\n",
       "      <td>-1.138280</td>\n",
       "      <td>0.279088</td>\n",
       "      <td>-0.082455</td>\n",
       "      <td>-0.808245</td>\n",
       "      <td>0.157336</td>\n",
       "      <td>-1.619092</td>\n",
       "      <td>1.902882</td>\n",
       "      <td>-0.679180</td>\n",
       "    </tr>\n",
       "    <tr>\n",
       "      <th>1</th>\n",
       "      <td>-0.538949</td>\n",
       "      <td>-0.479658</td>\n",
       "      <td>-0.097016</td>\n",
       "      <td>0.070837</td>\n",
       "      <td>-0.375369</td>\n",
       "      <td>-0.312347</td>\n",
       "      <td>0.647866</td>\n",
       "      <td>-0.859973</td>\n",
       "      <td>-0.485623</td>\n",
       "    </tr>\n",
       "    <tr>\n",
       "      <th>2</th>\n",
       "      <td>-0.272833</td>\n",
       "      <td>-0.099122</td>\n",
       "      <td>-0.966073</td>\n",
       "      <td>-0.641762</td>\n",
       "      <td>-0.220844</td>\n",
       "      <td>0.789274</td>\n",
       "      <td>0.670423</td>\n",
       "      <td>-0.038404</td>\n",
       "      <td>-0.465376</td>\n",
       "    </tr>\n",
       "    <tr>\n",
       "      <th>3</th>\n",
       "      <td>2.007808</td>\n",
       "      <td>0.775381</td>\n",
       "      <td>-1.448071</td>\n",
       "      <td>-0.165315</td>\n",
       "      <td>-0.585043</td>\n",
       "      <td>1.387054</td>\n",
       "      <td>-1.179234</td>\n",
       "      <td>2.128151</td>\n",
       "      <td>-0.516268</td>\n",
       "    </tr>\n",
       "    <tr>\n",
       "      <th>4</th>\n",
       "      <td>-0.695634</td>\n",
       "      <td>0.160668</td>\n",
       "      <td>-0.286894</td>\n",
       "      <td>0.497568</td>\n",
       "      <td>0.101732</td>\n",
       "      <td>-0.601749</td>\n",
       "      <td>0.704258</td>\n",
       "      <td>-0.541946</td>\n",
       "      <td>-0.041817</td>\n",
       "    </tr>\n",
       "  </tbody>\n",
       "</table>\n",
       "</div>"
      ],
      "text/plain": [
       "   child_mort   exports    health   imports    income  inflation  life_expec  \\\n",
       "0    1.291532 -1.138280  0.279088 -0.082455 -0.808245   0.157336   -1.619092   \n",
       "1   -0.538949 -0.479658 -0.097016  0.070837 -0.375369  -0.312347    0.647866   \n",
       "2   -0.272833 -0.099122 -0.966073 -0.641762 -0.220844   0.789274    0.670423   \n",
       "3    2.007808  0.775381 -1.448071 -0.165315 -0.585043   1.387054   -1.179234   \n",
       "4   -0.695634  0.160668 -0.286894  0.497568  0.101732  -0.601749    0.704258   \n",
       "\n",
       "   total_fer      gdpp  \n",
       "0   1.902882 -0.679180  \n",
       "1  -0.859973 -0.485623  \n",
       "2  -0.038404 -0.465376  \n",
       "3   2.128151 -0.516268  \n",
       "4  -0.541946 -0.041817  "
      ]
     },
     "execution_count": 9,
     "metadata": {},
     "output_type": "execute_result"
    }
   ],
   "source": [
    "## Standardize the variables.\n",
    "def standardization_f(ngo1):\n",
    "    x_bar = np.mean(ngo1)\n",
    "    s = np.std(ngo1)\n",
    "    x_z = (ngo1 - x_bar) / s\n",
    "    return(x_z)\n",
    "print(ngo1.corr())\n",
    "x_z = ngo1.apply(standardization_f, broadcast = True)\n",
    "x_z.head()"
   ]
  },
  {
   "cell_type": "code",
   "execution_count": 10,
   "metadata": {},
   "outputs": [
    {
     "name": "stdout",
     "output_type": "stream",
     "text": [
      "[[-0.43706491  0.02737909 -0.19090588  0.06955093 -0.20131886 -0.03918493\n",
      "   0.28566125 -0.44720856 -0.31752579]\n",
      " [ 1.34541883 -0.45967186 -0.1895969  -0.22567743 -0.68713515  0.39226703\n",
      "  -1.26429235  1.32908188 -0.60530769]\n",
      " [-0.82985801  0.6150709   0.80342073  0.14942456  1.57803837 -0.48186651\n",
      "   1.11979699 -0.77777456  1.77123477]]\n"
     ]
    }
   ],
   "source": [
    "#In k-means clustering, we come up with number of clusters we would like to see. Then after plotting a scatter plot, we see if the number of clusters are appropriate or not.\n",
    "#Here, we will start by asking the algorithm to assign three clusters and see how it fits the data.\n",
    "# perform K means clustering on x_z or standardized data\n",
    "import scipy\n",
    "from scipy.cluster.vq import vq, kmeans, whiten\n",
    "from pylab import plot,show\n",
    "from numpy import vstack,array\n",
    "from numpy.random import rand\n",
    "from scipy.cluster.vq import kmeans,vq\n",
    "\n",
    "#changing x_z from dataframe to an array\n",
    "x_z1 = np.array(x_z)\n",
    "\n",
    "##kmeans clustering for 3 clusters\n",
    "kmeans_x,_ = kmeans(x_z1,3)\n",
    "print(kmeans_x)"
   ]
  },
  {
   "cell_type": "code",
   "execution_count": 11,
   "metadata": {},
   "outputs": [],
   "source": [
    "# assign each sample to a cluster\n",
    "idx3,_ = vq(x_z1,kmeans_x)"
   ]
  },
  {
   "cell_type": "code",
   "execution_count": 12,
   "metadata": {},
   "outputs": [
    {
     "data": {
      "image/png": "[encoded data removed]",
      "text/plain": [
       "<matplotlib.figure.Figure at 0x1e822f61f98>"
      ]
     },
     "metadata": {},
     "output_type": "display_data"
    }
   ],
   "source": [
    "# plot a scatterplot\n",
    "plt.plot(x_z1[idx3==0,0],x_z1[idx3==0,1],'sb',\n",
    "     x_z1[idx3==1,0],x_z1[idx3==1,1],'sr',\n",
    "     x_z1[idx3==2,0],x_z1[idx3==2,1],'og')\n",
    "plt.plot(kmeans_x[:,0],kmeans_x[:,1],'sk',markersize=8)\n",
    "plt.xlim(-4.0, 3.0)\n",
    "plt.ylim(-4.0, 2.0)\n",
    "show()"
   ]
  },
  {
   "cell_type": "code",
   "execution_count": 13,
   "metadata": {},
   "outputs": [],
   "source": [
    "#Each color represents a cluster. We can see more or less clean separation in blue and red but slightly more overlap in blue and green.\n",
    "#Now lets try asking the algorithm for four clusters and observe it in a scatterplot.\n",
    "##kmeans clustering for 4 clusters\n",
    "kmeans_x4,_ = kmeans(x_z1,4)\n"
   ]
  },
  {
   "cell_type": "code",
   "execution_count": 14,
   "metadata": {},
   "outputs": [],
   "source": [
    "# assign each sample to a cluster\n",
    "idx4,_ = vq(x_z1,kmeans_x4)\n",
    "\n"
   ]
  },
  {
   "cell_type": "code",
   "execution_count": 15,
   "metadata": {},
   "outputs": [
    {
     "data": {
      "image/png": "[encoded data removed]",
      "text/plain": [
       "<matplotlib.figure.Figure at 0x1e822fb6a90>"
      ]
     },
     "metadata": {},
     "output_type": "display_data"
    }
   ],
   "source": [
    "# Plot a scatterplot\n",
    "plt.plot(x_z1[idx4==0,0],x_z1[idx4==0,1],'sb',\n",
    "     x_z1[idx4==1,0],x_z1[idx4==1,1],'sr',\n",
    "     x_z1[idx4==2,0],x_z1[idx4==2,1],'og',\n",
    "     x_z1[idx4==3,0],x_z1[idx4==3,1],'oy')\n",
    "plt.plot(kmeans_x4[:,0],kmeans_x4[:,1],'sk',markersize=8)\n",
    "plt.xlim(-4.0, 3.0)\n",
    "plt.ylim(-4.0, 2.0)\n",
    "show()"
   ]
  },
  {
   "cell_type": "code",
   "execution_count": 16,
   "metadata": {},
   "outputs": [],
   "source": [
    "#Four clusters look worse than three. Now, lets try two clusters only.\n",
    "##kmeans clustering for 2 clusters\n",
    "kmeans_x2,_ = kmeans(x_z1,2)\n"
   ]
  },
  {
   "cell_type": "code",
   "execution_count": 17,
   "metadata": {},
   "outputs": [],
   "source": [
    "# assign each sample to a cluster\n",
    "idx2,_ = vq(x_z1,kmeans_x2)\n"
   ]
  },
  {
   "cell_type": "code",
   "execution_count": 18,
   "metadata": {},
   "outputs": [
    {
     "data": {
      "image/png": "[encoded data removed]",
      "text/plain": [
       "<matplotlib.figure.Figure at 0x1e822fcce48>"
      ]
     },
     "metadata": {},
     "output_type": "display_data"
    }
   ],
   "source": [
    "# Plot a scatterplot\n",
    "plt.plot(x_z1[idx2==0,0],x_z1[idx2==0,1],'ob',\n",
    "     x_z1[idx2==1,0],x_z1[idx2==1,1],'sr')\n",
    "plt.plot(kmeans_x2[:,0],kmeans_x2[:,1],'sk',markersize=8)\n",
    "plt.xlim(-4.0, 3.0)\n",
    "plt.ylim(-4.0, 2.0)\n",
    "show()"
   ]
  },
  {
   "cell_type": "code",
   "execution_count": null,
   "metadata": {},
   "outputs": [],
   "source": [
    "#We conducted K-means clustering using K = 2, 3, and 4. We think K = 3 gives the best discrimination based on scatter plots observed above."
   ]
  },
  {
   "cell_type": "code",
   "execution_count": 19,
   "metadata": {},
   "outputs": [],
   "source": [
    "#Silhouette Analysis\n",
    "from sklearn.metrics import silhouette_score\n",
    "sse_ = []\n",
    "for k in range(2, 15):\n",
    "    kmeans = KMeans(n_clusters=k).fit(x_z)\n",
    "    sse_.append([k, silhouette_score(x_z, kmeans.labels_)])"
   ]
  },
  {
   "cell_type": "code",
   "execution_count": 20,
   "metadata": {},
   "outputs": [
    {
     "data": {
      "image/png": "[encoded data removed]",
      "text/plain": [
       "<matplotlib.figure.Figure at 0x1e822b38da0>"
      ]
     },
     "metadata": {},
     "output_type": "display_data"
    }
   ],
   "source": [
    "plt.plot(pd.DataFrame(sse_)[0], pd.DataFrame(sse_)[1]);"
   ]
  },
  {
   "cell_type": "code",
   "execution_count": 21,
   "metadata": {},
   "outputs": [
    {
     "data": {
      "text/plain": [
       "[<matplotlib.lines.Line2D at 0x1e82314a828>]"
      ]
     },
     "execution_count": 21,
     "metadata": {},
     "output_type": "execute_result"
    },
    {
     "data": {
      "image/png": "[encoded data removed]",
      "text/plain": [
       "<matplotlib.figure.Figure at 0x1e8230cb860>"
      ]
     },
     "metadata": {},
     "output_type": "display_data"
    }
   ],
   "source": [
    "#Sum of Squared Distances\n",
    "ssd = []\n",
    "for num_clusters in list(range(1,21)):\n",
    "    model_clus = KMeans(n_clusters = num_clusters, max_iter=50)\n",
    "    model_clus.fit(x_z)\n",
    "    ssd.append(model_clus.inertia_)\n",
    "\n",
    "plt.plot(ssd)"
   ]
  },
  {
   "cell_type": "code",
   "execution_count": 22,
   "metadata": {},
   "outputs": [
    {
     "data": {
      "text/html": [
       "<div>\n",
       "<style scoped>\n",
       "    .dataframe tbody tr th:only-of-type {\n",
       "        vertical-align: middle;\n",
       "    }\n",
       "\n",
       "    .dataframe tbody tr th {\n",
       "        vertical-align: top;\n",
       "    }\n",
       "\n",
       "    .dataframe thead th {\n",
       "        text-align: right;\n",
       "    }\n",
       "</style>\n",
       "<table border=\"1\" class=\"dataframe\">\n",
       "  <thead>\n",
       "    <tr style=\"text-align: right;\">\n",
       "      <th></th>\n",
       "      <th>child_mort</th>\n",
       "      <th>exports</th>\n",
       "      <th>health</th>\n",
       "      <th>imports</th>\n",
       "      <th>income</th>\n",
       "      <th>inflation</th>\n",
       "      <th>life_expec</th>\n",
       "      <th>total_fer</th>\n",
       "      <th>gdpp</th>\n",
       "    </tr>\n",
       "  </thead>\n",
       "  <tbody>\n",
       "    <tr>\n",
       "      <th>child_mort</th>\n",
       "      <td>1.006024</td>\n",
       "      <td>-0.320009</td>\n",
       "      <td>-0.201609</td>\n",
       "      <td>-0.127977</td>\n",
       "      <td>-0.527474</td>\n",
       "      <td>0.290013</td>\n",
       "      <td>-0.892018</td>\n",
       "      <td>0.853589</td>\n",
       "      <td>-0.485942</td>\n",
       "    </tr>\n",
       "    <tr>\n",
       "      <th>exports</th>\n",
       "      <td>-0.320009</td>\n",
       "      <td>1.006024</td>\n",
       "      <td>-0.115098</td>\n",
       "      <td>0.741823</td>\n",
       "      <td>0.519897</td>\n",
       "      <td>-0.107941</td>\n",
       "      <td>0.318218</td>\n",
       "      <td>-0.321938</td>\n",
       "      <td>0.421247</td>\n",
       "    </tr>\n",
       "    <tr>\n",
       "      <th>health</th>\n",
       "      <td>-0.201609</td>\n",
       "      <td>-0.115098</td>\n",
       "      <td>1.006024</td>\n",
       "      <td>0.096293</td>\n",
       "      <td>0.130359</td>\n",
       "      <td>-0.256914</td>\n",
       "      <td>0.211961</td>\n",
       "      <td>-0.197859</td>\n",
       "      <td>0.348050</td>\n",
       "    </tr>\n",
       "    <tr>\n",
       "      <th>imports</th>\n",
       "      <td>-0.127977</td>\n",
       "      <td>0.741823</td>\n",
       "      <td>0.096293</td>\n",
       "      <td>1.006024</td>\n",
       "      <td>0.123144</td>\n",
       "      <td>-0.248482</td>\n",
       "      <td>0.054718</td>\n",
       "      <td>-0.160007</td>\n",
       "      <td>0.116194</td>\n",
       "    </tr>\n",
       "    <tr>\n",
       "      <th>income</th>\n",
       "      <td>-0.527474</td>\n",
       "      <td>0.519897</td>\n",
       "      <td>0.130359</td>\n",
       "      <td>0.123144</td>\n",
       "      <td>1.006024</td>\n",
       "      <td>-0.148646</td>\n",
       "      <td>0.615649</td>\n",
       "      <td>-0.504863</td>\n",
       "      <td>0.900966</td>\n",
       "    </tr>\n",
       "    <tr>\n",
       "      <th>inflation</th>\n",
       "      <td>0.290013</td>\n",
       "      <td>-0.107941</td>\n",
       "      <td>-0.256914</td>\n",
       "      <td>-0.248482</td>\n",
       "      <td>-0.148646</td>\n",
       "      <td>1.006024</td>\n",
       "      <td>-0.241149</td>\n",
       "      <td>0.318830</td>\n",
       "      <td>-0.222966</td>\n",
       "    </tr>\n",
       "  </tbody>\n",
       "</table>\n",
       "</div>"
      ],
      "text/plain": [
       "            child_mort   exports    health   imports    income  inflation  \\\n",
       "child_mort    1.006024 -0.320009 -0.201609 -0.127977 -0.527474   0.290013   \n",
       "exports      -0.320009  1.006024 -0.115098  0.741823  0.519897  -0.107941   \n",
       "health       -0.201609 -0.115098  1.006024  0.096293  0.130359  -0.256914   \n",
       "imports      -0.127977  0.741823  0.096293  1.006024  0.123144  -0.248482   \n",
       "income       -0.527474  0.519897  0.130359  0.123144  1.006024  -0.148646   \n",
       "inflation     0.290013 -0.107941 -0.256914 -0.248482 -0.148646   1.006024   \n",
       "\n",
       "            life_expec  total_fer      gdpp  \n",
       "child_mort   -0.892018   0.853589 -0.485942  \n",
       "exports       0.318218  -0.321938  0.421247  \n",
       "health        0.211961  -0.197859  0.348050  \n",
       "imports       0.054718  -0.160007  0.116194  \n",
       "income        0.615649  -0.504863  0.900966  \n",
       "inflation    -0.241149   0.318830 -0.222966  "
      ]
     },
     "execution_count": 22,
     "metadata": {},
     "output_type": "execute_result"
    }
   ],
   "source": [
    "#Principal Component Analysis\n",
    "## Compute covariance matrix of standardized variables.\n",
    "RR = x_z.cov()\n",
    "RR.head(6)"
   ]
  },
  {
   "cell_type": "code",
   "execution_count": 23,
   "metadata": {},
   "outputs": [
    {
     "name": "stdout",
     "output_type": "stream",
     "text": [
      "[4.16057017 1.55566165 1.1774338  1.00077724 0.66459866 0.224928\n",
      " 0.06727787 0.08884738 0.1141221 ]\n",
      "[[ 0.41951945 -0.19288394  0.02954353 -0.37065326 -0.16896968 -0.20062815\n",
      "  -0.3275418  -0.68274306 -0.07948854]\n",
      " [-0.28389698 -0.61316349 -0.14476069 -0.00309102  0.05761584  0.05933283\n",
      "   0.12308207 -0.01419742 -0.70730269]\n",
      " [-0.15083782  0.24308678  0.59663237 -0.4618975   0.51800037 -0.00727646\n",
      "  -0.11308797  0.07249683 -0.24983051]\n",
      " [-0.16148244 -0.67182064  0.29992674  0.07190746  0.25537642  0.03003154\n",
      "  -0.09903717 -0.02894642  0.59218953]\n",
      " [-0.39844111 -0.02253553 -0.3015475  -0.39215904 -0.2471496  -0.16034699\n",
      "  -0.61298247  0.35262369  0.09556237]\n",
      " [ 0.19317293  0.00840447 -0.64251951 -0.15044176  0.7148691  -0.06628537\n",
      "   0.02523614 -0.01153775  0.10463252]\n",
      " [-0.42583938  0.22270674 -0.11391854  0.20379723  0.1082198   0.60112652\n",
      "  -0.29403981 -0.50466425  0.01848639]\n",
      " [ 0.40372896 -0.15523311 -0.01954925 -0.37830365 -0.13526221  0.75068875\n",
      "   0.02633585  0.29335267  0.02882643]\n",
      " [-0.39264482  0.0460224  -0.12297749 -0.53199457 -0.18016662 -0.01677876\n",
      "   0.62564572 -0.24969636  0.24299776]]\n"
     ]
    }
   ],
   "source": [
    "## Compute eigenvalues and eigenvectors of covariance matrix. \n",
    "eigen_RR = np.linalg.eig(RR)\n",
    "print(eigen_RR[0])\n",
    "print(eigen_RR[1])"
   ]
  },
  {
   "cell_type": "code",
   "execution_count": 24,
   "metadata": {},
   "outputs": [
    {
     "name": "stdout",
     "output_type": "stream",
     "text": [
      "[0.4595174  0.17181626 0.13004259 0.11053162 0.07340211 0.02484235\n",
      " 0.00743056 0.00981282 0.0126043 ]\n"
     ]
    }
   ],
   "source": [
    "## Proportion of variance explained by each PC.\n",
    "print(eigen_RR[0] / sum(eigen_RR[0]))"
   ]
  },
  {
   "cell_type": "code",
   "execution_count": 25,
   "metadata": {},
   "outputs": [
    {
     "name": "stdout",
     "output_type": "stream",
     "text": [
      "(167, 9)\n",
      "(9, 9)\n",
      "<class 'numpy.ndarray'>\n",
      "(167, 2)\n"
     ]
    },
    {
     "data": {
      "text/plain": [
       "array([[ 2.91302459, -0.09562058],\n",
       "       [-0.42991133,  0.58815567],\n",
       "       [ 0.28522508,  0.45517441],\n",
       "       [ 2.93242265, -1.69555507],\n",
       "       [-1.03357587, -0.13665871]])"
      ]
     },
     "execution_count": 25,
     "metadata": {},
     "output_type": "execute_result"
    }
   ],
   "source": [
    "#We see that first PC explains 46% of the variance and second PC explains 17% of the variance while the third explains only 13% of the variance. So, based on this we will select only the first two PCs.\n",
    "#Now, lets calculate the PC values for the first two PCs. We can do that by matrix multiplying the standardized data with the first two eigenvectors.\n",
    "## Compute first 2 PCs by matrix multiplying the standardized data array \n",
    "## by the first 2 columns of the array of eigenvectors.\n",
    "print(x_z.shape)\n",
    "print(eigen_RR[1].shape)\n",
    "PCs = np.dot(x_z, eigen_RR[1][:, :2])\n",
    "print(type(PCs))\n",
    "print(PCs.shape)\n",
    "PCs[:5, ]"
   ]
  },
  {
   "cell_type": "code",
   "execution_count": 26,
   "metadata": {},
   "outputs": [
    {
     "name": "stdout",
     "output_type": "stream",
     "text": [
      "     child_mort   exports    health   imports    income  inflation  \\\n",
      "162   -0.225578  0.200917 -0.571711  0.240700 -0.738527  -0.489784   \n",
      "163   -0.526514 -0.461363 -0.695862 -1.213499 -0.033542   3.616865   \n",
      "164   -0.372315  1.130305  0.008877  1.380030 -0.658404   0.409732   \n",
      "165    0.448417 -0.406478 -0.597272 -0.517472 -0.658924   1.500916   \n",
      "166    1.114951 -0.150348 -0.338015 -0.662477 -0.721358   0.590015   \n",
      "\n",
      "     life_expec  total_fer      gdpp  cluster  \n",
      "162   -0.852161   0.365754 -0.546913        0  \n",
      "163    0.546361  -0.316678  0.029323        0  \n",
      "164    0.286958  -0.661206 -0.637754        0  \n",
      "165   -0.344633   1.140944 -0.637754        1  \n",
      "166   -2.092785   1.624609 -0.629546        1  \n"
     ]
    }
   ],
   "source": [
    "cluster = idx3\n",
    "type(cluster)\n",
    "np.ndarray\n",
    "#To see, if the PCA algorithm will be able to separate the clusters, I am adding clusters from (k =3) to the original dataframe. Then I will plot the scatterplot of PC1 vs PC2 to see if the three clusters separate as they should.\n",
    "##Add the cluster membership to first dataframe x_z\n",
    "x_z['cluster'] = cluster[:]\n",
    "print(x_z.tail())"
   ]
  },
  {
   "cell_type": "code",
   "execution_count": 27,
   "metadata": {},
   "outputs": [
    {
     "data": {
      "text/plain": [
       "<matplotlib.collections.PathCollection at 0x1e8231b5b70>"
      ]
     },
     "execution_count": 27,
     "metadata": {},
     "output_type": "execute_result"
    },
    {
     "data": {
      "image/png": "[encoded data removed]",
      "text/plain": [
       "<matplotlib.figure.Figure at 0x1e82313c588>"
      ]
     },
     "metadata": {},
     "output_type": "display_data"
    }
   ],
   "source": [
    "#The cluster membership is added as a separate column “cluster”. Now, we will plot the scatterplot of PC1 vs PC2 and color code them by cluster membership.\n",
    "## Scatterplot of first 2 PCs, color coded by cluster membership. \n",
    "plt.scatter(PCs[:, 0], PCs[:, 1],c= x_z['cluster']) "
   ]
  },
  {
   "cell_type": "code",
   "execution_count": 28,
   "metadata": {},
   "outputs": [
    {
     "name": "stdout",
     "output_type": "stream",
     "text": [
      "     child_mort  exports  health  imports  income  inflation  life_expec  \\\n",
      "162        29.2     46.6    5.25     52.7    2950       2.62        63.0   \n",
      "163        17.1     28.5    4.91     17.6   16500      45.90        75.4   \n",
      "164        23.3     72.0    6.84     80.2    4490      12.10        73.1   \n",
      "165        56.3     30.0    5.18     34.4    4480      23.60        67.5   \n",
      "166        83.1     37.0    5.89     30.9    3280      14.00        52.0   \n",
      "\n",
      "     total_fer   gdpp  cluster_ID  \n",
      "162       3.50   2970           0  \n",
      "163       2.47  13500           0  \n",
      "164       1.95   1310           0  \n",
      "165       4.67   1310           1  \n",
      "166       5.40   1460           1  \n"
     ]
    }
   ],
   "source": [
    "#The PCA clearly separates the three clusters that we found via the k-means clustering (as shown in the fig by different colors).\n",
    "\n",
    "#Now, lets look at the characteristics of each cluster by calculating means of each clusters.\n",
    "##Add the cluster membership to first dataframe x\n",
    "ngo1['cluster_ID'] = cluster[:]\n",
    "print(ngo1.tail())\n",
    "## Sort the countries in x by cluster membership\n",
    "x_cluster_sort = ngo1.sort_values('cluster_ID')"
   ]
  },
  {
   "cell_type": "code",
   "execution_count": 29,
   "metadata": {},
   "outputs": [
    {
     "data": {
      "text/plain": [
       "pandas.core.frame.DataFrame"
      ]
     },
     "execution_count": 29,
     "metadata": {},
     "output_type": "execute_result"
    }
   ],
   "source": [
    "type(x_cluster_sort)\n",
    "pd.core.frame.DataFrame"
   ]
  },
  {
   "cell_type": "code",
   "execution_count": 30,
   "metadata": {},
   "outputs": [],
   "source": [
    "## separate countries  based on cluster membership\n",
    "cluster1 = x_cluster_sort.loc[x_cluster_sort[\"cluster_ID\"] == 0]\n",
    "cluster2 = x_cluster_sort.loc[x_cluster_sort[\"cluster_ID\"] == 1]\n",
    "cluster3 = x_cluster_sort.loc[x_cluster_sort[\"cluster_ID\"] == 2]"
   ]
  },
  {
   "cell_type": "code",
   "execution_count": null,
   "metadata": {},
   "outputs": [],
   "source": [
    "#export data for analysis the countries\n",
    "cluster1.to_csv(\"cluster1.csv\")\n",
    "cluster2.to_csv(\"cluster2.csv\")\n",
    "cluster3.to_csv(\"cluster3.csv\")\n"
   ]
  },
  {
   "cell_type": "code",
   "execution_count": 31,
   "metadata": {},
   "outputs": [
    {
     "name": "stdout",
     "output_type": "stream",
     "text": [
      "                       0\n",
      "child_mort     20.897674\n",
      "exports        41.576512\n",
      "health          6.274419\n",
      "imports        48.402326\n",
      "income      13100.581395\n",
      "inflation       7.471174\n",
      "life_expec     73.037209\n",
      "total_fer       2.281860\n",
      "gdpp         7014.813953\n",
      "cluster_ID      0.000000\n"
     ]
    }
   ],
   "source": [
    "#calculate mean values for each clusters\n",
    "c1means = pd.DataFrame(cluster1.mean())\n",
    "c2means = pd.DataFrame(cluster2.mean())\n",
    "c3means = pd.DataFrame(cluster3.mean())\n",
    "print(c1means)"
   ]
  },
  {
   "cell_type": "code",
   "execution_count": 32,
   "metadata": {},
   "outputs": [],
   "source": [
    "##Concatenate the three dataframes along axis =1 using the index from c1means\n",
    "summary = pd.concat([c1means, c2means, c3means], axis=1, join_axes = [c1means.index])\n"
   ]
  },
  {
   "cell_type": "code",
   "execution_count": 33,
   "metadata": {},
   "outputs": [
    {
     "name": "stdout",
     "output_type": "stream",
     "text": [
      "               Cluster_1    Cluster_2     Cluster_3\n",
      "child_mort     20.897674    92.366667      4.857576\n",
      "exports        41.576512    28.546229     58.163636\n",
      "health          6.274419     6.296458      8.981515\n",
      "imports        48.402326    41.443040     50.872727\n",
      "income      13100.581395  3937.770833  46893.939394\n",
      "inflation       7.471174    11.915938      2.578182\n",
      "life_expec     73.037209    59.345833     80.393939\n",
      "total_fer       2.281860     4.953958      1.766061\n",
      "gdpp         7014.813953  1902.916667  44557.575758\n",
      "cluster_ID      0.000000     1.000000      2.000000\n"
     ]
    }
   ],
   "source": [
    "## Assign column names to the dataframe summary\n",
    "summary.columns = ['Cluster_1', 'Cluster_2', 'Cluster_3']\n",
    "print(summary)"
   ]
  },
  {
   "cell_type": "code",
   "execution_count": 34,
   "metadata": {},
   "outputs": [],
   "source": [
    "#In the above table, we have tabulated three clusters that we identified by k-means clustering with their means for respective variables.\n",
    "#From the table, looking at the mean values for each features, we can say that Cluster 2 are the most poor countries interm of income,GDPP,high child mortality followed by cluster 1 and cluster 3.Cluster 3 is  most richest counties based on all metrics. Cluster 1 are far better country on child_mort, export, Health, income, and inflation  than Cluster 2 but,cluster 2 is slightly better in\n",
    "#total_fer factor."
   ]
  },
  {
   "cell_type": "code",
   "execution_count": 35,
   "metadata": {},
   "outputs": [
    {
     "data": {
      "text/plain": [
       "<matplotlib.figure.Figure at 0x1e8230d2748>"
      ]
     },
     "metadata": {},
     "output_type": "display_data"
    },
    {
     "data": {
      "image/png": "[encoded data removed]",
      "text/plain": [
       "<matplotlib.figure.Figure at 0x1e82310d0b8>"
      ]
     },
     "metadata": {},
     "output_type": "display_data"
    }
   ],
   "source": [
    "plt.figure()\n",
    "summary1= summary[:9]\n",
    "summary1.plot(kind ='bar')\n",
    "plt.legend(bbox_to_anchor=(1.05, 1), loc=2, borderaxespad=0.) ## to move the legend outside of plot\n",
    "plt.show()"
   ]
  },
  {
   "cell_type": "code",
   "execution_count": 36,
   "metadata": {},
   "outputs": [
    {
     "name": "stdout",
     "output_type": "stream",
     "text": [
      "            child_mort   exports    health   imports    income  inflation  \\\n",
      "child_mort    1.000000 -0.318093 -0.200402 -0.127211 -0.524315   0.288276   \n",
      "exports      -0.318093  1.000000 -0.114408  0.737381  0.516784  -0.107294   \n",
      "health       -0.200402 -0.114408  1.000000  0.095717  0.129579  -0.255376   \n",
      "imports      -0.127211  0.737381  0.095717  1.000000  0.122406  -0.246994   \n",
      "income       -0.524315  0.516784  0.129579  0.122406  1.000000  -0.147756   \n",
      "inflation     0.288276 -0.107294 -0.255376 -0.246994 -0.147756   1.000000   \n",
      "life_expec   -0.886676  0.316313  0.210692  0.054391  0.611962  -0.239705   \n",
      "total_fer     0.848478 -0.320011 -0.196674 -0.159048 -0.501840   0.316921   \n",
      "gdpp         -0.483032  0.418725  0.345966  0.115498  0.895571  -0.221631   \n",
      "cluster_ID    0.074522  0.146382  0.329907  0.000438  0.529535  -0.105327   \n",
      "\n",
      "            life_expec  total_fer      gdpp  cluster_ID  \n",
      "child_mort   -0.886676   0.848478 -0.483032    0.074522  \n",
      "exports       0.316313  -0.320011  0.418725    0.146382  \n",
      "health        0.210692  -0.196674  0.345966    0.329907  \n",
      "imports       0.054391  -0.159048  0.115498    0.000438  \n",
      "income        0.611962  -0.501840  0.895571    0.529535  \n",
      "inflation    -0.239705   0.316921 -0.221631   -0.105327  \n",
      "life_expec    1.000000  -0.760875  0.600089    0.096053  \n",
      "total_fer    -0.760875   1.000000 -0.454910    0.092727  \n",
      "gdpp          0.600089  -0.454910  1.000000    0.651098  \n",
      "cluster_ID    0.096053   0.092727  0.651098    1.000000  \n"
     ]
    },
    {
     "data": {
      "text/html": [
       "<div>\n",
       "<style scoped>\n",
       "    .dataframe tbody tr th:only-of-type {\n",
       "        vertical-align: middle;\n",
       "    }\n",
       "\n",
       "    .dataframe tbody tr th {\n",
       "        vertical-align: top;\n",
       "    }\n",
       "\n",
       "    .dataframe thead th {\n",
       "        text-align: right;\n",
       "    }\n",
       "</style>\n",
       "<table border=\"1\" class=\"dataframe\">\n",
       "  <thead>\n",
       "    <tr style=\"text-align: right;\">\n",
       "      <th></th>\n",
       "      <th>child_mort</th>\n",
       "      <th>exports</th>\n",
       "      <th>health</th>\n",
       "      <th>imports</th>\n",
       "      <th>income</th>\n",
       "      <th>inflation</th>\n",
       "      <th>life_expec</th>\n",
       "      <th>total_fer</th>\n",
       "      <th>gdpp</th>\n",
       "      <th>cluster_ID</th>\n",
       "    </tr>\n",
       "  </thead>\n",
       "  <tbody>\n",
       "    <tr>\n",
       "      <th>0</th>\n",
       "      <td>1.291532</td>\n",
       "      <td>-1.138280</td>\n",
       "      <td>0.279088</td>\n",
       "      <td>-0.082455</td>\n",
       "      <td>-0.808245</td>\n",
       "      <td>0.157336</td>\n",
       "      <td>-1.619092</td>\n",
       "      <td>1.902882</td>\n",
       "      <td>-0.679180</td>\n",
       "      <td>0.405728</td>\n",
       "    </tr>\n",
       "    <tr>\n",
       "      <th>1</th>\n",
       "      <td>-0.538949</td>\n",
       "      <td>-0.479658</td>\n",
       "      <td>-0.097016</td>\n",
       "      <td>0.070837</td>\n",
       "      <td>-0.375369</td>\n",
       "      <td>-0.312347</td>\n",
       "      <td>0.647866</td>\n",
       "      <td>-0.859973</td>\n",
       "      <td>-0.485623</td>\n",
       "      <td>-0.872699</td>\n",
       "    </tr>\n",
       "    <tr>\n",
       "      <th>2</th>\n",
       "      <td>-0.272833</td>\n",
       "      <td>-0.099122</td>\n",
       "      <td>-0.966073</td>\n",
       "      <td>-0.641762</td>\n",
       "      <td>-0.220844</td>\n",
       "      <td>0.789274</td>\n",
       "      <td>0.670423</td>\n",
       "      <td>-0.038404</td>\n",
       "      <td>-0.465376</td>\n",
       "      <td>-0.872699</td>\n",
       "    </tr>\n",
       "    <tr>\n",
       "      <th>3</th>\n",
       "      <td>2.007808</td>\n",
       "      <td>0.775381</td>\n",
       "      <td>-1.448071</td>\n",
       "      <td>-0.165315</td>\n",
       "      <td>-0.585043</td>\n",
       "      <td>1.387054</td>\n",
       "      <td>-1.179234</td>\n",
       "      <td>2.128151</td>\n",
       "      <td>-0.516268</td>\n",
       "      <td>0.405728</td>\n",
       "    </tr>\n",
       "    <tr>\n",
       "      <th>4</th>\n",
       "      <td>-0.695634</td>\n",
       "      <td>0.160668</td>\n",
       "      <td>-0.286894</td>\n",
       "      <td>0.497568</td>\n",
       "      <td>0.101732</td>\n",
       "      <td>-0.601749</td>\n",
       "      <td>0.704258</td>\n",
       "      <td>-0.541946</td>\n",
       "      <td>-0.041817</td>\n",
       "      <td>-0.872699</td>\n",
       "    </tr>\n",
       "  </tbody>\n",
       "</table>\n",
       "</div>"
      ],
      "text/plain": [
       "   child_mort   exports    health   imports    income  inflation  life_expec  \\\n",
       "0    1.291532 -1.138280  0.279088 -0.082455 -0.808245   0.157336   -1.619092   \n",
       "1   -0.538949 -0.479658 -0.097016  0.070837 -0.375369  -0.312347    0.647866   \n",
       "2   -0.272833 -0.099122 -0.966073 -0.641762 -0.220844   0.789274    0.670423   \n",
       "3    2.007808  0.775381 -1.448071 -0.165315 -0.585043   1.387054   -1.179234   \n",
       "4   -0.695634  0.160668 -0.286894  0.497568  0.101732  -0.601749    0.704258   \n",
       "\n",
       "   total_fer      gdpp  cluster_ID  \n",
       "0   1.902882 -0.679180    0.405728  \n",
       "1  -0.859973 -0.485623   -0.872699  \n",
       "2  -0.038404 -0.465376   -0.872699  \n",
       "3   2.128151 -0.516268    0.405728  \n",
       "4  -0.541946 -0.041817   -0.872699  "
      ]
     },
     "execution_count": 36,
     "metadata": {},
     "output_type": "execute_result"
    }
   ],
   "source": [
    "#Hierarchical Clustering\n",
    "y = ngo1\n",
    "## Standardize the variables.\n",
    "def standardization_f(y):\n",
    "    y_bar = np.mean(y)\n",
    "    s = np.std(y)\n",
    "    y_z = (y - y_bar) / s\n",
    "    return(y_z)\n",
    "print(y.corr())\n",
    "y_z = y.apply(standardization_f, broadcast = True)\n",
    "y_z.head()\n"
   ]
  },
  {
   "cell_type": "code",
   "execution_count": 37,
   "metadata": {},
   "outputs": [],
   "source": [
    "# making sure that the data is in n x p matrix format, where n = observations/individuals, p = features\n",
    "mat = y_z.as_matrix()"
   ]
  },
  {
   "cell_type": "code",
   "execution_count": 38,
   "metadata": {},
   "outputs": [],
   "source": [
    "from matplotlib import pyplot as plt\n",
    "from scipy.cluster.hierarchy import dendrogram, linkage\n",
    "import numpy as np\n",
    "# generate the linkage matrix\n",
    "Z = linkage(mat, 'average')"
   ]
  },
  {
   "cell_type": "code",
   "execution_count": 39,
   "metadata": {},
   "outputs": [],
   "source": [
    "from scipy.cluster.hierarchy import cophenet\n",
    "from scipy.spatial.distance import pdist"
   ]
  },
  {
   "cell_type": "code",
   "execution_count": 40,
   "metadata": {},
   "outputs": [
    {
     "data": {
      "text/plain": [
       "0.8668632441829562"
      ]
     },
     "execution_count": 40,
     "metadata": {},
     "output_type": "execute_result"
    }
   ],
   "source": [
    "#Cophenetic Correlation Coefficient gives the correlation between actual pairwise distance of all samples to those implied by hierarchical clustering.\n",
    "#The closer the value is to 1, the better the clustering preserves the original distances. Here, we are calculating that using cophenet() function.\n",
    "c, coph_dists = cophenet(Z, pdist(mat))\n",
    "c\n",
    "#Average linkage provides the most highest c value than single, ward and complete."
   ]
  },
  {
   "cell_type": "code",
   "execution_count": 41,
   "metadata": {},
   "outputs": [
    {
     "data": {
      "image/png": "[encoded data removed]",
      "text/plain": [
       "<matplotlib.figure.Figure at 0x1e82310d2e8>"
      ]
     },
     "metadata": {},
     "output_type": "display_data"
    }
   ],
   "source": [
    "# calculate full dendrogram\n",
    "plt.figure(figsize=(25, 10))\n",
    "plt.title('Hierarchical Clustering Dendrogram')\n",
    "plt.xlabel('sample index')\n",
    "plt.ylabel('distance')\n",
    "dendrogram(\n",
    "    Z,\n",
    "    leaf_rotation=90.,  # rotates the x axis labels\n",
    "    leaf_font_size=8.,  # font size for the x axis labels\n",
    ")\n",
    "plt.show()"
   ]
  },
  {
   "cell_type": "code",
   "execution_count": 42,
   "metadata": {},
   "outputs": [],
   "source": [
    "## From visual inspection, the cutoff distance is set at 4\n",
    "max_d = 4\n",
    "def fancy_dendrogram(*args, **kwargs):\n",
    "  \n",
    "    max_d = kwargs.pop('max_d', None)\n",
    "    if max_d and 'color_threshold' not in kwargs:\n",
    "        kwargs['color_threshold'] = max_d\n",
    "    annotate_above = kwargs.pop('annotate_above', 0)\n",
    "\n",
    "    ddata = dendrogram(*args, **kwargs)\n",
    "\n",
    "    if not kwargs.get('no_plot', False):\n",
    "        plt.title('Hierarchical Clustering Dendrogram (truncated)')\n",
    "        plt.xlabel('sample index or (cluster size)')\n",
    "        plt.ylabel('distance')\n",
    "        for i, d, c in zip(ddata['icoord'], ddata['dcoord'], ddata['color_list']):\n",
    "            x = 0.5 * sum(i[1:3])\n",
    "            y = d[1]\n",
    "            if y > annotate_above:\n",
    "                plt.plot(x, y, 'o', c=c)\n",
    "                plt.annotate(\"%.3g\" % y, (x, y), xytext=(0, -5),\n",
    "                             textcoords='offset points',\n",
    "                             va='top', ha='center')\n",
    "        if max_d:\n",
    "            plt.axhline(y=max_d, c='k')\n",
    "    return ddata"
   ]
  },
  {
   "cell_type": "code",
   "execution_count": 43,
   "metadata": {},
   "outputs": [
    {
     "data": {
      "image/png": "[encoded data removed]",
      "text/plain": [
       "<matplotlib.figure.Figure at 0x1e8232a05f8>"
      ]
     },
     "metadata": {},
     "output_type": "display_data"
    }
   ],
   "source": [
    "fancy_dendrogram(\n",
    "    Z,\n",
    "    truncate_mode='lastp',\n",
    "    p=12,\n",
    "    leaf_rotation=90.,\n",
    "    leaf_font_size=12.,\n",
    "    show_contracted=True,\n",
    "    annotate_above=3,\n",
    "    max_d=max_d,  # plot a horizontal cut-off line\n",
    ")\n",
    "plt.show()"
   ]
  },
  {
   "cell_type": "code",
   "execution_count": 44,
   "metadata": {},
   "outputs": [
    {
     "data": {
      "text/plain": [
       "array([3, 4, 4, 3, 4, 4, 4, 6, 6, 4, 4, 4, 4, 4, 4, 6, 4, 3, 4, 4, 4, 3,\n",
       "       4, 5, 4, 3, 3, 4, 3, 6, 4, 3, 3, 4, 4, 4, 3, 3, 3, 4, 3, 4, 6, 6,\n",
       "       6, 4, 4, 4, 4, 3, 3, 4, 4, 6, 6, 3, 3, 4, 6, 3, 6, 4, 4, 3, 3, 4,\n",
       "       7, 4, 6, 4, 4, 4, 3, 6, 6, 6, 4, 6, 4, 4, 3, 3, 5, 4, 3, 4, 4, 3,\n",
       "       3, 4, 4, 2, 4, 3, 3, 4, 4, 3, 1, 3, 4, 3, 4, 4, 4, 4, 3, 3, 3, 4,\n",
       "       6, 6, 3, 8, 6, 4, 3, 4, 4, 4, 4, 4, 6, 5, 4, 4, 3, 4, 4, 3, 4, 4,\n",
       "       3, 1, 4, 6, 4, 3, 4, 6, 4, 4, 3, 4, 6, 6, 4, 3, 4, 3, 3, 4, 4, 4,\n",
       "       4, 3, 4, 5, 6, 6, 4, 4, 4, 4, 4, 3, 3], dtype=int32)"
      ]
     },
     "execution_count": 44,
     "metadata": {},
     "output_type": "execute_result"
    }
   ],
   "source": [
    "## Retrieving the clusters\n",
    "from scipy.cluster.hierarchy import fcluster\n",
    "max_d = 4\n",
    "clusters_id = fcluster(Z, max_d, criterion='distance')\n",
    "clusters_id"
   ]
  },
  {
   "cell_type": "code",
   "execution_count": 45,
   "metadata": {},
   "outputs": [
    {
     "name": "stdout",
     "output_type": "stream",
     "text": [
      "     child_mort  exports  health  imports  income  inflation  life_expec  \\\n",
      "58          4.2     42.3   11.60     37.1   40400      0.758        80.1   \n",
      "77          3.2     15.0    9.49     13.6   35800     -1.900        82.8   \n",
      "110         4.5     72.0   11.90     63.6   45500      0.848        80.7   \n",
      "66        208.0     15.3    6.91     64.7    1500      5.450        32.1   \n",
      "113       130.0     25.3    5.07     17.4    5150    104.000        60.5   \n",
      "\n",
      "     total_fer   gdpp  cluster_ID  cluster_id  \n",
      "58        1.39  41800           2           6  \n",
      "77        1.39  44500           2           6  \n",
      "110       1.79  50300           2           6  \n",
      "66        3.33    662           1           7  \n",
      "113       5.84   2330           1           8  \n"
     ]
    }
   ],
   "source": [
    "#Add the cluster membership to first dataframe x\n",
    "y['cluster_id'] = clusters_id[:]\n",
    "## Sort the countries in x by cluster membership\n",
    "y_cluster_sort = y.sort_values('cluster_id')\n",
    "#del y_cluster_sort['clusters_id'] \n",
    "print(y_cluster_sort.tail())"
   ]
  },
  {
   "cell_type": "code",
   "execution_count": 46,
   "metadata": {},
   "outputs": [],
   "source": [
    "## separate countries  based on cluster membership\n",
    "c1 = y_cluster_sort.loc[y_cluster_sort[\"cluster_id\"] == 1]\n",
    "c2 = y_cluster_sort.loc[y_cluster_sort[\"cluster_id\"] == 2]\n",
    "c3 = y_cluster_sort.loc[y_cluster_sort[\"cluster_id\"] == 3]\n",
    "c4 = y_cluster_sort.loc[y_cluster_sort[\"cluster_id\"] == 4]\n",
    "c5 = y_cluster_sort.loc[y_cluster_sort[\"cluster_id\"] == 5]"
   ]
  },
  {
   "cell_type": "code",
   "execution_count": null,
   "metadata": {},
   "outputs": [],
   "source": [
    "#import data for analysis for countries\n",
    "c1.to_csv(\"c1.csv\")\n",
    "c2.to_csv(\"c2.csv\")\n",
    "c3.to_csv(\"c3.csv\")\n",
    "c4.to_csv(\"c4.csv\")\n",
    "c5.to_csv(\"c5.csv\")"
   ]
  },
  {
   "cell_type": "code",
   "execution_count": 47,
   "metadata": {},
   "outputs": [
    {
     "name": "stdout",
     "output_type": "stream",
     "text": [
      "     child_mort  exports  health  imports  income  inflation  life_expec  \\\n",
      "10         13.8    35.00    7.89     43.7   22900     -0.393        73.8   \n",
      "125        10.0    29.20    5.08     21.1   23100     14.200        69.2   \n",
      "124        11.5    32.60    5.58     38.8   17800      3.530        73.7   \n",
      "121         6.0    40.10    7.46     42.1   21800      1.660        76.3   \n",
      "120        31.9    34.80    3.61     36.6    5600      4.220        69.0   \n",
      "119        20.3    27.80    5.08     23.8    9960      5.710        77.9   \n",
      "118        24.1    55.10    5.87     51.5    7290      6.100        74.1   \n",
      "16         18.8    58.20    5.20     57.5    7880      1.140        71.4   \n",
      "14          5.5    51.40    5.61     64.5   16200     15.100        70.4   \n",
      "117        19.7    70.00    8.10     78.2   15400      2.590        77.8   \n",
      "11          8.6    69.50    4.97     50.9   41100      7.440        76.0   \n",
      "127        18.9    29.20    6.47     53.1    5400      1.720        71.5   \n",
      "103        26.1    46.70    5.44     56.7    7710     39.200        66.2   \n",
      "115        11.7    65.70    2.77     41.2   45300     15.600        76.1   \n",
      "12         49.4    16.00    3.52     21.8    2440      7.140        70.4   \n",
      "109        47.0     9.58    5.25     36.4    1990     15.100        68.3   \n",
      "104         6.8    37.00    9.11     62.7   14000      1.600        76.4   \n",
      "13         14.2    39.50    7.97     48.7   15300      0.321        76.7   \n",
      "105        33.5    32.20    5.20     43.0    6440      0.976        73.5   \n",
      "128        15.7    49.60    4.29     33.0   45400     17.200        75.1   \n",
      "39         10.2    33.20   10.90     35.0   13000      6.570        80.4   \n",
      "130         7.6    32.90   10.40     47.9   12700      5.880        74.7   \n",
      "164        23.3    72.00    6.84     80.2    4490     12.100        73.1   \n",
      "163        17.1    28.50    4.91     17.6   16500     45.900        75.4   \n",
      "162        29.2    46.60    5.25     52.7    2950      2.620        63.0   \n",
      "161        36.3    31.70    5.81     28.5    4240     16.500        68.8   \n",
      "160        10.6    26.30    8.35     25.4   17100      4.910        76.4   \n",
      "156        11.7    47.10    7.72     51.1    7820     13.400        70.4   \n",
      "1          16.6    28.00    6.55     48.6    9930      4.490        76.3   \n",
      "154        62.0    76.30    2.50     44.5    9940      2.310        67.9   \n",
      "..          ...      ...     ...      ...     ...        ...         ...   \n",
      "30         26.5    32.70    4.09     61.8    5830      0.505        72.5   \n",
      "62         35.4    25.80    6.85     36.3    6710      5.140        71.3   \n",
      "61         14.6    23.80    5.86     49.2   11200      0.480        71.3   \n",
      "57         16.5    35.00   10.10     52.8    6730      8.550        72.8   \n",
      "33          8.7    37.70    7.96     31.3   19400      8.960        79.1   \n",
      "34         15.7    26.30    5.07     22.6    9530      6.940        74.6   \n",
      "52         24.1    57.80    4.86     63.9    7350      4.230        65.3   \n",
      "51          4.5    75.10    6.03     68.7   22700      1.740        76.0   \n",
      "35         18.6    15.90    7.59     17.8   10900      3.860        76.4   \n",
      "48         19.2    26.90    6.91     46.6    7300      2.650        74.1   \n",
      "47         29.1    21.30    4.66     26.6    9860     10.100        70.5   \n",
      "46         25.1    27.90    8.06     32.4    9350      7.470        76.7   \n",
      "45         34.4    22.70    6.22     33.3   11100      5.440        74.6   \n",
      "41          5.5    37.60    7.76     38.1   20100      0.821        76.3   \n",
      "71         19.3    24.40    5.60     19.4   17400     15.900        74.5   \n",
      "76         18.1    31.30    4.81     49.6    8000      9.810        74.7   \n",
      "83         29.6    51.60    6.18     81.7    2790     10.000        68.5   \n",
      "85          7.8    53.70    6.68     55.1   18300     -0.812        73.1   \n",
      "89         16.6    65.60    3.88     42.1   29600     14.200        76.1   \n",
      "90          6.1    65.30    7.04     67.2   21100      2.380        73.2   \n",
      "86         10.3    35.80    7.03     60.2   16300      0.238        79.8   \n",
      "22         19.8    10.70    9.01     11.8   14500      8.410        74.2   \n",
      "92         10.4    39.80    7.09     58.1   11400      2.040        74.0   \n",
      "20          6.9    29.70   11.10     51.3    9720      1.400        76.8   \n",
      "95          7.9    86.90    4.39     71.0   21100      7.270        74.5   \n",
      "24         10.8    50.20    6.87     53.0   15300      1.110        73.9   \n",
      "79         21.5    44.20    4.29     29.9   20100     19.500        68.4   \n",
      "78         21.1    48.30    8.04     69.0    9470      8.430        75.8   \n",
      "27         44.4    54.10    5.68     59.5    2520      3.120        66.1   \n",
      "96         13.2    77.60    6.33     65.4   10500      2.880        77.9   \n",
      "\n",
      "     total_fer   gdpp  cluster_ID  cluster_id  \n",
      "10        1.86  28000           0           4  \n",
      "125       1.57  10700           0           4  \n",
      "124       1.59   8230           0           4  \n",
      "121       1.41  12600           0           4  \n",
      "120       3.16   2130           0           4  \n",
      "119       2.54   5020           0           4  \n",
      "118       2.73   3230           0           4  \n",
      "16        2.71   4340           0           4  \n",
      "14        1.49   6030           0           4  \n",
      "117       2.62   8080           0           4  \n",
      "11        2.16  20700           0           4  \n",
      "127       4.34   3450           0           4  \n",
      "103       2.64   2650           0           4  \n",
      "115       2.90  19300           0           4  \n",
      "12        2.33    758           0           4  \n",
      "109       2.61    592           0           4  \n",
      "104       1.77   6680           0           4  \n",
      "13        1.78  16000           0           4  \n",
      "105       2.58   2830           0           4  \n",
      "128       2.96  19300           0           4  \n",
      "39        1.92   8200           0           4  \n",
      "130       1.40   5410           0           4  \n",
      "164       1.95   1310           0           4  \n",
      "163       2.47  13500           0           4  \n",
      "162       3.50   2970           0           4  \n",
      "161       2.34   1380           0           4  \n",
      "160       2.08  11900           0           4  \n",
      "156       1.44   2970           0           4  \n",
      "1         1.65   4090           0           4  \n",
      "154       2.83   4440           0           4  \n",
      "..         ...    ...         ...         ...  \n",
      "30        2.67   3310           0           4  \n",
      "62        3.38   2830           0           4  \n",
      "61        2.24   7370           0           4  \n",
      "57        1.92   2960           0           4  \n",
      "33        1.88  12900           0           4  \n",
      "34        1.59   4560           0           4  \n",
      "52        2.67   3650           0           4  \n",
      "51        1.72  14600           0           4  \n",
      "35        2.01   6250           0           4  \n",
      "48        2.27   2990           0           4  \n",
      "47        3.19   2600           0           4  \n",
      "46        2.66   4660           0           4  \n",
      "45        2.60   5450           0           4  \n",
      "41        1.55  13500           0           4  \n",
      "71        1.76   6530           0           4  \n",
      "76        2.17   4680           0           4  \n",
      "83        3.10    880           0           4  \n",
      "85        1.36  11300           0           4  \n",
      "89        2.41  12100           0           4  \n",
      "90        1.50  12000           0           4  \n",
      "86        1.61   8860           0           4  \n",
      "22        1.80  11200           0           4  \n",
      "92        1.47   4540           0           4  \n",
      "20        1.31   4610           0           4  \n",
      "95        2.15   9070           0           4  \n",
      "24        1.57   6840           0           4  \n",
      "79        2.60   9070           0           4  \n",
      "78        3.66   3680           0           4  \n",
      "27        2.88    786           0           4  \n",
      "96        2.23   7100           0           4  \n",
      "\n",
      "[85 rows x 11 columns]\n"
     ]
    }
   ],
   "source": [
    "c1_m = pd.DataFrame(c1.mean())\n",
    "c2_m = pd.DataFrame(c2.mean())\n",
    "c3_m = pd.DataFrame(c3.mean())\n",
    "c4_m = pd.DataFrame(c4.mean())\n",
    "c5_m = pd.DataFrame(c5.mean())\n",
    "print(c4)"
   ]
  },
  {
   "cell_type": "code",
   "execution_count": 48,
   "metadata": {},
   "outputs": [
    {
     "data": {
      "text/plain": [
       "array([[ 1.29153238, -1.13827979,  0.27908825, ..., -0.67917961,\n",
       "         0.40572844, -0.95371034],\n",
       "       [-0.5389489 , -0.47965843, -0.09701618, ..., -0.48562324,\n",
       "        -0.8726989 , -0.04359819],\n",
       "       [-0.27283273, -0.09912164, -0.96607302, ..., -0.46537561,\n",
       "        -0.8726989 , -0.04359819],\n",
       "       ...,\n",
       "       [-0.37231541,  1.13030491,  0.0088773 , ..., -0.63775406,\n",
       "        -0.8726989 , -0.04359819],\n",
       "       [ 0.44841668, -0.40647827, -0.59727159, ..., -0.63775406,\n",
       "         0.40572844, -0.95371034],\n",
       "       [ 1.11495062, -0.15034774, -0.33801514, ..., -0.62954556,\n",
       "         0.40572844, -0.95371034]])"
      ]
     },
     "execution_count": 48,
     "metadata": {},
     "output_type": "execute_result"
    }
   ],
   "source": [
    "#Scaling of data\n",
    "from sklearn.preprocessing import StandardScaler  # For scaling dataset\n",
    "from sklearn.cluster import KMeans, AgglomerativeClustering, AffinityPropagation #For clustering\n",
    "from sklearn.mixture import GaussianMixture #For GMM clustering\n",
    "ss = StandardScaler()\n",
    "ss.fit_transform(ngo1)"
   ]
  },
  {
   "cell_type": "code",
   "execution_count": 49,
   "metadata": {},
   "outputs": [],
   "source": [
    "##Concatenate the six dataframes along axis =1 using the index from c1means\n",
    "summary_hc = pd.concat([c1_m, c2_m, c3_m, c4_m, c5_m], axis=1, join_axes = [c1_m.index])\n"
   ]
  },
  {
   "cell_type": "code",
   "execution_count": 50,
   "metadata": {},
   "outputs": [
    {
     "name": "stdout",
     "output_type": "stream",
     "text": [
      "            cluster_1  cluster_2    cluster_3     cluster_4   cluster_5\n",
      "child_mort      4.800       2.80    87.991489     20.672941      9.7250\n",
      "exports       176.500     175.00    28.789766     41.789176     68.5250\n",
      "health          6.305       7.77     6.477660      6.181176      2.7350\n",
      "imports       164.000     142.00    42.301402     48.018824     36.4500\n",
      "income      50200.000   91700.00  3951.127660  13215.411765  84600.0000\n",
      "inflation       1.892       3.62     9.921596      7.514365     11.8450\n",
      "life_expec     81.500      81.30    60.029787     73.127059     77.8250\n",
      "total_fer       1.255       1.63     4.937872      2.268000      1.9975\n",
      "gdpp        33850.000  105000.00  1940.595745   7063.694118  44775.0000\n",
      "cluster_ID      2.000       2.00     0.978723      0.000000      2.0000\n",
      "cluster_id      1.000       2.00     3.000000      4.000000      5.0000\n"
     ]
    }
   ],
   "source": [
    "## Assign column names to the dataframe summary\n",
    "summary_hc.columns = ['cluster_1', 'cluster_2', 'cluster_3', 'cluster_4', 'cluster_5']\n",
    "print(summary_hc)"
   ]
  },
  {
   "cell_type": "code",
   "execution_count": 51,
   "metadata": {},
   "outputs": [
    {
     "data": {
      "text/plain": [
       "<matplotlib.figure.Figure at 0x1e8243d5080>"
      ]
     },
     "metadata": {},
     "output_type": "display_data"
    },
    {
     "data": {
      "image/png": "[encoded data removed]",
      "text/plain": [
       "<matplotlib.figure.Figure at 0x1e824413898>"
      ]
     },
     "metadata": {},
     "output_type": "display_data"
    }
   ],
   "source": [
    "#Now, lets plot a bar graph using these mean values for each clusters\n",
    "summary_hc1 = summary_hc[:9]\n",
    "summary_hc2 = summary_hc1.transpose()\n",
    "plt.figure()\n",
    "summary_hc2.plot(kind ='bar')\n",
    "plt.legend(bbox_to_anchor=(1.05, 1), loc=2, borderaxespad=0.) ## to move the legend outside of plot\n",
    "plt.show()"
   ]
  },
  {
   "cell_type": "code",
   "execution_count": 52,
   "metadata": {},
   "outputs": [
    {
     "data": {
      "text/plain": [
       "<matplotlib.figure.Figure at 0x1e823299278>"
      ]
     },
     "metadata": {},
     "output_type": "display_data"
    },
    {
     "data": {
      "image/png": "[encoded data removed]",
      "text/plain": [
       "<matplotlib.figure.Figure at 0x1e8244b3710>"
      ]
     },
     "metadata": {},
     "output_type": "display_data"
    }
   ],
   "source": [
    "plt.figure()\n",
    "summary_hc1.plot(kind ='bar')\n",
    "plt.legend(bbox_to_anchor=(1.05, 1), loc=2, borderaxespad=0.) ## to move the legend outside of plot\n",
    "plt.show()"
   ]
  },
  {
   "cell_type": "code",
   "execution_count": null,
   "metadata": {},
   "outputs": [],
   "source": [
    "#Conclusions based on hierarchical clustering\n",
    "#Cluster 3 are mostly poor countries with low GDP, low income & low life_expec & health & high child_mortality.\n",
    "## but they are happy in terms of total_fer.\n",
    "\n",
    "#Cluster4 are developing countries.They have  better income and GDP & life_expec & health & low child mortality rate than cluster 3.\n",
    "\n",
    "#Cluster 1 are the  better countries with higher GDP, higher income,life_expec & lower child_mort than cluster3 & cluster4.\n",
    "\n",
    "#Cluster 5 are  far better countries with higher GDP, higher income,life_expec,low child_mort, than cluster1,cluster3 and cluster4.\n",
    "#Cluster 2 are the best countries with higher GDP, higher income,life_expec,lowest child_mort in contrast of all factors.\n",
    "\n",
    "#Countries are analysises based on the clusters and  factor variables and mapped in to the countries.\n"
   ]
  }
 ],
 "metadata": {
  "kernelspec": {
   "display_name": "Python 3",
   "language": "python",
   "name": "python3"
  },
  "language_info": {
   "codemirror_mode": {
    "name": "ipython",
    "version": 3
   },
   "file_extension": ".py",
   "mimetype": "text/x-python",
   "name": "python",
   "nbconvert_exporter": "python",
   "pygments_lexer": "ipython3",
   "version": "3.6.4"
  }
 },
 "nbformat": 4,
 "nbformat_minor": 2
}
